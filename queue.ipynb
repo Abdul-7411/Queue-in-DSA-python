{
 "cells": [
  {
   "cell_type": "code",
   "execution_count": 23,
   "id": "49be819a",
   "metadata": {},
   "outputs": [],
   "source": [
    "class Node:\n",
    "    def __init__(self,value):\n",
    "        self.data = value\n",
    "        self.next = None"
   ]
  },
  {
   "cell_type": "code",
   "execution_count": 29,
   "id": "80febc96",
   "metadata": {},
   "outputs": [],
   "source": [
    "class Queue:\n",
    "    def __init__(self):\n",
    "        self.front = None\n",
    "        self.rear = None \n",
    "        \n",
    "    def enqueue(self,value):\n",
    "        new_node = Node(value)\n",
    "        if self.rear == None:\n",
    "            self.front = new_node\n",
    "            self.rear = self.front\n",
    "        else:\n",
    "            self.rear.next = new_node\n",
    "            self.rear = new_node\n",
    "    \n",
    "    def is_empty(self):\n",
    "        return self.front == None\n",
    "    \n",
    "    def size(self):\n",
    "        curr = self.front\n",
    "        count = 0\n",
    "        while curr!=None:\n",
    "            curr = curr.next\n",
    "            count+=1  \n",
    "        return count\n",
    "     \n",
    "    def front_item(self):\n",
    "        if self.front == None:\n",
    "            return \"Empty Queue\"\n",
    "        else:\n",
    "            return self.front.data \n",
    "    \n",
    "    def rear_item(self):\n",
    "        if self.rear == None:\n",
    "            return \"Empty Queue\"\n",
    "        else:\n",
    "            return self.rear.data \n",
    "      \n",
    "    def dequeue(self):\n",
    "        if self.front == None:\n",
    "            return \"The queue is empty\"\n",
    "        else:\n",
    "            self.front = self.front.next\n",
    "    \n",
    "    def traverse(self):\n",
    "        curr = self.front\n",
    "        \n",
    "        while curr!=None:\n",
    "            print(curr.data,end=' ')\n",
    "            curr = curr.next\n",
    "        \n",
    "        "
   ]
  },
  {
   "cell_type": "code",
   "execution_count": 34,
   "id": "fc44aae2",
   "metadata": {},
   "outputs": [
    {
     "name": "stdout",
     "output_type": "stream",
     "text": [
      "5 4 3 2 1 "
     ]
    }
   ],
   "source": [
    "q = Queue()\n",
    "q.enqueue(5)\n",
    "q.enqueue(4)\n",
    "q.enqueue(3)\n",
    "q.enqueue(2)\n",
    "q.enqueue(1)\n",
    "q.traverse()\n"
   ]
  },
  {
   "cell_type": "code",
   "execution_count": 35,
   "id": "0ac16e80",
   "metadata": {},
   "outputs": [
    {
     "data": {
      "text/plain": [
       "1"
      ]
     },
     "execution_count": 35,
     "metadata": {},
     "output_type": "execute_result"
    }
   ],
   "source": [
    "q.rear_item()"
   ]
  },
  {
   "cell_type": "code",
   "execution_count": null,
   "id": "8d35951f",
   "metadata": {},
   "outputs": [],
   "source": []
  }
 ],
 "metadata": {
  "kernelspec": {
   "display_name": "Python 3",
   "language": "python",
   "name": "python3"
  },
  "language_info": {
   "codemirror_mode": {
    "name": "ipython",
    "version": 3
   },
   "file_extension": ".py",
   "mimetype": "text/x-python",
   "name": "python",
   "nbconvert_exporter": "python",
   "pygments_lexer": "ipython3",
   "version": "3.13.0"
  }
 },
 "nbformat": 4,
 "nbformat_minor": 5
}
